{
    "cells": [
        {
            "cell_type": "code",
            "execution_count": 4,
            "source": [
                "import numpy as np\n",
                "import pickle"
            ],
            "outputs": [],
            "metadata": {}
        },
        {
            "cell_type": "markdown",
            "source": [
                "# load whole data"
            ],
            "metadata": {}
        },
        {
            "cell_type": "code",
            "execution_count": 5,
            "source": [
                "\n",
                "path = '/home/wjyun/ML/Few-shot/relation_net/LearningToCompare_FSL/datas/RadioML/RML2016.10a_dict.dat'\n",
                "with open(path,'rb') as f:\n",
                "    Xd = pickle.load(f, encoding='latin1') \n"
            ],
            "outputs": [],
            "metadata": {}
        },
        {
            "cell_type": "markdown",
            "source": [
                "# Extract data from target SNR"
            ],
            "metadata": {}
        },
        {
            "cell_type": "code",
            "execution_count": 6,
            "source": [
                "# The snrs you want\n",
                "snr = 18 \n",
                "# The mods you want\n",
                "mods = {'8PSK','AM-DSB','BPSK','GFSK','PAM4','QAM64','QPSK','AM-SSB','QAM16','CPFSK','WBFM'} \n",
                "# Extact datas\n",
                "mod_extract = {mod: Xd[mod,18] for mod in mods}"
            ],
            "outputs": [],
            "metadata": {}
        },
        {
            "cell_type": "code",
            "execution_count": 8,
            "source": [
                "# check keys\n",
                "mod_extract.keys()\n",
                "# check shape\n",
                "for k in mod_extract.keys():\n",
                "    print(mod_extract[k].shape)"
            ],
            "outputs": [
                {
                    "output_type": "stream",
                    "name": "stdout",
                    "text": [
                        "(1000, 2, 128)\n",
                        "(1000, 2, 128)\n",
                        "(1000, 2, 128)\n",
                        "(1000, 2, 128)\n",
                        "(1000, 2, 128)\n",
                        "(1000, 2, 128)\n",
                        "(1000, 2, 128)\n",
                        "(1000, 2, 128)\n",
                        "(1000, 2, 128)\n",
                        "(1000, 2, 128)\n",
                        "(1000, 2, 128)\n"
                    ]
                }
            ],
            "metadata": {}
        },
        {
            "cell_type": "markdown",
            "source": [
                "# Save to pickle"
            ],
            "metadata": {}
        },
        {
            "cell_type": "code",
            "execution_count": 11,
            "source": [
                "with open('./datas/IQ_18.pkl', 'wb') as f:\n",
                "    pickle.dump(mod_extract, f, pickle.HIGHEST_PROTOCOL)"
            ],
            "outputs": [],
            "metadata": {}
        }
    ],
    "metadata": {
        "orig_nbformat": 4,
        "language_info": {
            "name": "python",
            "version": "3.8.5",
            "mimetype": "text/x-python",
            "codemirror_mode": {
                "name": "ipython",
                "version": 3
            },
            "pygments_lexer": "ipython3",
            "nbconvert_exporter": "python",
            "file_extension": ".py"
        },
        "kernelspec": {
            "name": "python3",
            "display_name": "Python 3.8.5 64-bit ('ML': conda)"
        },
        "interpreter": {
            "hash": "be01ce2fc657c577ac3ed5d02df2cbc432f6a1511206e38964fac7febd6aacb3"
        }
    },
    "nbformat": 4,
    "nbformat_minor": 2
}