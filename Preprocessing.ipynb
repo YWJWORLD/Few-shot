{
    "cells": [
        {
            "cell_type": "code",
            "execution_count": 5,
            "source": [
                "import h5py\n",
                "import json\n",
                "import numpy as np\n",
                "from numpy import argwhere\n",
                "\n",
                "# Open the dataset\n",
                "path = '/media/wjyun/08EA7DEDEA7DD800/Radioml2018/'\n",
                "hdf5_file = h5py.File(str(path)+\"GOLD_XYZ_OSC.0001_1024.hdf5\",  'r')\n",
                "# Load the modulation classes. You can also copy and paste the content of classes-fixed.txt.\n",
                "modulation_classes = json.load(open(path+\"classes-fixed.json\", 'r'))\n",
                "\n",
                "# Read the HDF5 groups\n",
                "data = hdf5_file['X']\n",
                "modulation_onehot = hdf5_file['Y']\n",
                "snr = hdf5_file['Z']\n",
                "\n"
            ],
            "outputs": [],
            "metadata": {}
        },
        {
            "cell_type": "code",
            "execution_count": 6,
            "source": [
                "data_reshape = np.transpose(data,[0,2,1])\n",
                "data_reshape.shape"
            ],
            "outputs": [
                {
                    "output_type": "execute_result",
                    "data": {
                        "text/plain": [
                            "(2555904, 2, 1024)"
                        ]
                    },
                    "metadata": {},
                    "execution_count": 6
                }
            ],
            "metadata": {}
        },
        {
            "cell_type": "code",
            "execution_count": 11,
            "source": [
                "import pandas as pd\n",
                "from sklearn.preprocessing import LabelEncoder\n",
                "from sklearn.utils import column_or_1d\n",
                "\n",
                "class MyLabelEncoder(LabelEncoder):\n",
                "\n",
                "    def fit(self, y):\n",
                "        y = column_or_1d(y, warn=True)\n",
                "        self.classes_ = pd.Series(y).unique()\n",
                "        return self\n",
                "\n",
                "encoder = MyLabelEncoder()\n",
                "encoder.fit(modulation_classes)"
            ],
            "outputs": [
                {
                    "output_type": "execute_result",
                    "data": {
                        "text/plain": [
                            "MyLabelEncoder()"
                        ]
                    },
                    "metadata": {},
                    "execution_count": 11
                }
            ],
            "metadata": {}
        },
        {
            "cell_type": "code",
            "execution_count": 14,
            "source": [
                "# Extract SNR 30\n",
                "pos = np.where(np.array(snr) == 30)[0]\n",
                "temp_data = data_reshape[pos]\n",
                "temp_class = modulation_onehot[pos]\n",
                "numeric_class = np.argmax(temp_class,axis=1)\n",
                "char_class = encoder.inverse_transform(numeric_class)\n",
                "print(char_class[4096], char_class.shape)\n"
            ],
            "outputs": [
                {
                    "output_type": "stream",
                    "name": "stdout",
                    "text": [
                        "4ASK (98304,)\n"
                    ]
                }
            ],
            "metadata": {}
        },
        {
            "cell_type": "code",
            "execution_count": 21,
            "source": [
                "hf = h5py.File('./datas/2018_SNR_30.hdf5', 'w')\n",
                "test1 = hf.create_dataset('data', data=temp_data)\n",
                "test2 = hf.create_dataset('label', data=char_class)\n",
                "hf.close"
            ],
            "outputs": [
                {
                    "output_type": "execute_result",
                    "data": {
                        "text/plain": [
                            "<bound method File.close of <HDF5 file \"2018_SNR_30.hdf5\" (mode r+)>>"
                        ]
                    },
                    "metadata": {},
                    "execution_count": 21
                }
            ],
            "metadata": {}
        },
        {
            "cell_type": "code",
            "execution_count": 30,
            "source": [
                "test3 = h5py.File('./datas/2018_SNR_30.hdf5', 'r')\n",
                "test3['data'].shape"
            ],
            "outputs": [
                {
                    "output_type": "execute_result",
                    "data": {
                        "text/plain": [
                            "(98304, 2, 1024)"
                        ]
                    },
                    "metadata": {},
                    "execution_count": 30
                }
            ],
            "metadata": {}
        }
    ],
    "metadata": {
        "orig_nbformat": 4,
        "language_info": {
            "name": "python",
            "version": "3.8.10",
            "mimetype": "text/x-python",
            "codemirror_mode": {
                "name": "ipython",
                "version": 3
            },
            "pygments_lexer": "ipython3",
            "nbconvert_exporter": "python",
            "file_extension": ".py"
        },
        "kernelspec": {
            "name": "python3",
            "display_name": "Python 3.8.10 64-bit ('py38': conda)"
        },
        "interpreter": {
            "hash": "c7d56149545e2b45a1fc2dd8d90815213df504ef8f8825bd9b8325fc50ae7fb6"
        }
    },
    "nbformat": 4,
    "nbformat_minor": 2
}