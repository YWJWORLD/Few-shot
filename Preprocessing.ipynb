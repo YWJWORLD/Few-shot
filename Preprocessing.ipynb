{
    "cells": [
        {
            "cell_type": "code",
            "execution_count": null,
            "source": [
                "import h5py\n",
                "import json\n",
                "import numpy as np\n",
                "from numpy import argwhere\n",
                "\n",
                "# Open the dataset\n",
                "path = '/media/wjyun/08EA7DEDEA7DD800/Radioml2018/'\n",
                "hdf5_file = h5py.File(path+\"GOLD_XYZ_OSC.0001_1024.hdf5\",  'r')\n",
                "# Load the modulation classes. You can also copy and paste the content of classes-fixed.txt.\n",
                "modulation_classes = json.load(open(path+\"classes-fixed.json\", 'r'))\n",
                "\n",
                "# Read the HDF5 groups\n",
                "data = hdf5_file['X']\n",
                "modulation_onehot = hdf5_file['Y']\n",
                "snr = hdf5_file['Z']\n",
                "\n"
            ],
            "outputs": [],
            "metadata": {}
        },
        {
            "cell_type": "code",
            "execution_count": null,
            "source": [
                "data_reshape = np.transpose(data,[0,2,1])\n",
                "data_reshape.shape"
            ],
            "outputs": [],
            "metadata": {}
        },
        {
            "cell_type": "code",
            "execution_count": null,
            "source": [
                "import pandas as pd\n",
                "from sklearn.preprocessing import LabelEncoder\n",
                "from sklearn.utils import column_or_1d\n",
                "\n",
                "class MyLabelEncoder(LabelEncoder):\n",
                "\n",
                "    def fit(self, y):\n",
                "        y = column_or_1d(y, warn=True)\n",
                "        self.classes_ = pd.Series(y).unique()\n",
                "        return self"
            ],
            "outputs": [],
            "metadata": {}
        },
        {
            "cell_type": "code",
            "execution_count": null,
            "source": [
                "# Extract SNR 30\n",
                "pos = np.where(np.array(snr) == 30)[0]\n",
                "temp_data = data_reshape[pos]\n",
                "temp_class = modulation_onehot[pos]\n",
                "numeric_class = np.argmax(temp_class,axis=1)\n",
                "char_class = encoder.inverse_transform(numeric_class)\n",
                "print(char_class[0], char_class.shape)\n",
                "hf = h5py.File('./datas/2018_SNR_30.hdf5', 'w')\n",
                "hf.create_dataset('data', data=temp_data)\n",
                "hf.create_dataset('label', data=char_class)"
            ],
            "outputs": [],
            "metadata": {}
        }
    ],
    "metadata": {
        "orig_nbformat": 4,
        "language_info": {
            "name": "python"
        }
    },
    "nbformat": 4,
    "nbformat_minor": 2
}